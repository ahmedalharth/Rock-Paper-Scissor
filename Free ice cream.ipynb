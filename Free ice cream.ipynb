{
 "cells": [
  {
   "cell_type": "markdown",
   "metadata": {},
   "source": [
    "# A. Free Ice Cream"
   ]
  },
  {
   "cell_type": "markdown",
   "metadata": {},
   "source": [
    "<p> fter their adventure with the magic mirror Kay and Gerda have returned home and sometimes give free ice cream to kids in the summer.\n",
    "At the start of the day they have x ice cream packs. Since the ice cream is free, people start standing in the queue before Kay and Gerda's house even in the night. Each person in the queue wants either to take several ice cream packs for himself and his friends or to give several ice cream packs to Kay and Gerda (carriers that bring ice cream have to stand in the same queue).\n",
    "\n",
    "If a carrier with d ice cream packs comes to the house, then Kay and Gerda take all his packs. If a child who wants to take d ice cream packs comes to the house, then Kay and Gerda will give him d packs if they have enough ice cream, otherwise the child will get no ice cream at all and will leave in distress.\n",
    "\n",
    "Kay wants to find the amount of ice cream they will have after all people will leave from the queue, and Gerda wants to find the number of distressed kids.\n",
    "\n",
    "Input\n",
    "The first line contains two space-separated integers n and x (1 ≤ n ≤ 1000, 0 ≤ x ≤ 109).\n",
    "\n",
    "Each of the next n lines contains a character '+' or '-', and an integer di, separated by a space (1 ≤ di ≤ 109). Record \"+ di\" in i-th line means that a carrier with di ice cream packs occupies i-th place from the start of the queue, and record \"- di\" means that a child who wants to take di packs stands in i-th place.\n",
    "\n",
    "Output\n",
    "Print two space-separated integers — number of ice cream packs left after all operations, and number of kids that left the house in distress. <p/>"
   ]
  },
  {
   "cell_type": "code",
   "execution_count": 1,
   "metadata": {
    "scrolled": true
   },
   "outputs": [
    {
     "name": "stdout",
     "output_type": "stream",
     "text": [
      "The number of remining ice cream is: 3\n",
      "The numbe of distressed kids is: 4\n"
     ]
    }
   ],
   "source": [
    "def ice_cream_simulation(n, x, operations):\n",
    "    remaining_ice_cream = x\n",
    "    distressed_kids = 0\n",
    "\n",
    "    for operation, d in operations:\n",
    "        # the carrier gives an ice cream \n",
    "        if operation == '+':\n",
    "            remaining_ice_cream += d\n",
    "        # the child want an ice cream\n",
    "        else:\n",
    "            # there is an enugh ice cream\n",
    "            if remaining_ice_cream >= d:\n",
    "                remaining_ice_cream -= d\n",
    "            # there is no enugh ice cream \n",
    "            else:\n",
    "                distressed_kids += 1\n",
    "\n",
    "    return remaining_ice_cream, distressed_kids\n",
    "\n",
    "# Input\n",
    "n, x = map(int, input('Enter the numbre of people in the queue \\nand the number of the ice cream in the house:\\n').split())\n",
    "operations = [input('Enter(+ or -) and number ' ).split() for _ in range(n)]\n",
    "\n",
    "# Convert strings to appropriate types\n",
    "operations = [(op, int(d)) for op, d in operations]\n",
    "\n",
    "# Output\n",
    "result = ice_cream_simulation(n, x, operations)\n",
    "print(f\"The number of remining ice cream is: {result[0]}\\nThe numbe of distressed kids is: {result[1]}\")\n"
   ]
  },
  {
   "cell_type": "code",
   "execution_count": null,
   "metadata": {},
   "outputs": [],
   "source": []
  }
 ],
 "metadata": {
  "kernelspec": {
   "display_name": "Python 3 (ipykernel)",
   "language": "python",
   "name": "python3"
  },
  "language_info": {
   "codemirror_mode": {
    "name": "ipython",
    "version": 3
   },
   "file_extension": ".py",
   "mimetype": "text/x-python",
   "name": "python",
   "nbconvert_exporter": "python",
   "pygments_lexer": "ipython3",
   "version": "3.9.13"
  },
  "toc": {
   "base_numbering": 1,
   "nav_menu": {},
   "number_sections": false,
   "sideBar": true,
   "skip_h1_title": false,
   "title_cell": "Table of Contents",
   "title_sidebar": "Contents",
   "toc_cell": false,
   "toc_position": {},
   "toc_section_display": true,
   "toc_window_display": false
  }
 },
 "nbformat": 4,
 "nbformat_minor": 2
}
